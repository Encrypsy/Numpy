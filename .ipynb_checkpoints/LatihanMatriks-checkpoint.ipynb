{
 "cells": [
  {
   "cell_type": "markdown",
   "id": "b01a57ee-da52-4e97-8177-058e82236fee",
   "metadata": {},
   "source": [
    "# Numpy - O3\n",
    "By. Malya Maritza"
   ]
  },
  {
   "cell_type": "markdown",
   "id": "6014db56-6262-49c3-831b-6e736662386a",
   "metadata": {},
   "source": [
    "## Latihan Soal"
   ]
  },
  {
   "cell_type": "markdown",
   "id": "280bc56f-a954-4275-8514-7b3446cf5f17",
   "metadata": {},
   "source": [
    "* SOAL KE - 1"
   ]
  },
  {
   "attachments": {},
   "cell_type": "raw",
   "id": "47d52055-fed6-451b-9213-ec750ed0e665",
   "metadata": {},
   "source": [
    "[[5 5 5 5 5]\n",
    " [5 0 0 0 5]\n",
    " [5 0 9 0 5]\n",
    " [5 0 0 0 5]\n",
    " [5 5 5 5 5]]"
   ]
  },
  {
   "cell_type": "code",
   "execution_count": 5,
   "id": "13679128-b8e1-43b2-9b3e-cfa7a990cac8",
   "metadata": {},
   "outputs": [
    {
     "name": "stdout",
     "output_type": "stream",
     "text": [
      "[[5 5 5 5 5]\n",
      " [5 0 0 0 5]\n",
      " [5 0 9 0 5]\n",
      " [5 0 0 0 5]\n",
      " [5 5 5 5 5]]\n"
     ]
    }
   ],
   "source": [
    "import numpy as num\n",
    "\n",
    "a = num.full((5,5), 5)\n",
    "a[1:4, 1:4] = 0\n",
    "a[2, 2] = 9\n",
    "\n",
    "print(a)"
   ]
  },
  {
   "cell_type": "markdown",
   "id": "ca39a62f-2dbf-4e08-9752-b0a00061c031",
   "metadata": {},
   "source": [
    "* SOAL KE - 2"
   ]
  },
  {
   "cell_type": "raw",
   "id": "705cff63-53ce-446e-aca4-fb6ad6e57430",
   "metadata": {},
   "source": [
    "[[8 8 8 8 8 8 8]\n",
    " [6 0 0 0 0 0 6]\n",
    " [6 0 0 0 0 0 6]\n",
    " [6 0 0 0 0 0 6]\n",
    " [6 0 0 0 0 0 6]\n",
    " [6 0 0 0 0 0 6]\n",
    " [8 8 8 8 8 8 8]]"
   ]
  },
  {
   "cell_type": "code",
   "execution_count": 10,
   "id": "b5a2f7fa-68b5-4243-95ed-9e64554b2b6c",
   "metadata": {},
   "outputs": [
    {
     "name": "stdout",
     "output_type": "stream",
     "text": [
      "[[8 8 8 8 8 8 8]\n",
      " [6 0 0 0 0 0 6]\n",
      " [6 0 0 0 0 0 6]\n",
      " [6 0 0 0 0 0 6]\n",
      " [6 0 0 0 0 0 6]\n",
      " [6 0 0 0 0 0 6]\n",
      " [8 8 8 8 8 8 8]]\n"
     ]
    }
   ],
   "source": [
    "b = num.full((7, 7), 8)\n",
    "b[1:6, 0] = 6\n",
    "b[1:6, 6] = 6\n",
    "b[1:6, 1:6] = 0\n",
    "\n",
    "print(b)"
   ]
  },
  {
   "cell_type": "markdown",
   "id": "55c173cb-3b67-4084-bf65-a4a84ef5133a",
   "metadata": {},
   "source": [
    "* SOAL KE - 3"
   ]
  },
  {
   "cell_type": "raw",
   "id": "6e7d1f07-aaa8-4cdf-87e4-9ed36fbf87bc",
   "metadata": {},
   "source": [
    "[[7 7 7 7 7 7 7 7]  \n",
    " [7 0 0 0 0 0 0 7]  \n",
    " [7 0 6 6 6 6 0 7]  \n",
    " [7 0 6 0 0 6 0 7]  \n",
    " [7 0 6 0 0 6 0 7]  \n",
    " [7 0 6 6 6 6 0 7]  \n",
    " [7 0 0 0 0 0 0 7]  \n",
    " [7 7 7 7 7 7 7 7]]"
   ]
  },
  {
   "cell_type": "code",
   "execution_count": 15,
   "id": "ca575de9-2ee8-4349-b0c2-81473354da3f",
   "metadata": {},
   "outputs": [
    {
     "name": "stdout",
     "output_type": "stream",
     "text": [
      "[[7 7 7 7 7 7 7 7]\n",
      " [7 0 0 0 0 0 0 7]\n",
      " [7 0 6 6 6 6 0 7]\n",
      " [7 0 6 0 0 6 0 7]\n",
      " [7 0 6 0 0 6 0 7]\n",
      " [7 0 6 6 6 6 0 7]\n",
      " [7 0 0 0 0 0 0 7]\n",
      " [7 7 7 7 7 7 7 7]]\n"
     ]
    }
   ],
   "source": [
    "c = num.full((8, 8), 7)\n",
    "c[1:7, 1:7] = 0\n",
    "c[2:6, 2:6] = 6 \n",
    "c[3:5, 3:5] = 0\n",
    "\n",
    "print(c)"
   ]
  },
  {
   "cell_type": "code",
   "execution_count": null,
   "id": "389ac625-ec13-4429-87a2-b06436101f47",
   "metadata": {},
   "outputs": [],
   "source": []
  }
 ],
 "metadata": {
  "kernelspec": {
   "display_name": "Python 3 (ipykernel)",
   "language": "python",
   "name": "python3"
  },
  "language_info": {
   "codemirror_mode": {
    "name": "ipython",
    "version": 3
   },
   "file_extension": ".py",
   "mimetype": "text/x-python",
   "name": "python",
   "nbconvert_exporter": "python",
   "pygments_lexer": "ipython3",
   "version": "3.11.9"
  }
 },
 "nbformat": 4,
 "nbformat_minor": 5
}
