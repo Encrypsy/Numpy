{
 "cells": [
  {
   "cell_type": "markdown",
   "id": "cd444b37-eb2a-4087-bfec-e7517dc96ca3",
   "metadata": {},
   "source": [
    "# Numpy - O4\n",
    "By. Malya Maritza"
   ]
  },
  {
   "cell_type": "markdown",
   "id": "20593153-dfce-414c-ad30-abf45270a6ae",
   "metadata": {},
   "source": [
    "## Latihan Array 3D"
   ]
  },
  {
   "cell_type": "markdown",
   "id": "f6ae639b-d063-4a5b-82e3-3064af210996",
   "metadata": {},
   "source": [
    "* Membuat array yang isinya angka random 1 - 10 dengan ukuran (2, 3, 4)\n",
    "* Menampilkan salah satu element, row, column\n",
    "* Lalu jumlahkan semua isi element nya"
   ]
  },
  {
   "cell_type": "code",
   "execution_count": 6,
   "id": "0f612591-622d-4e88-957e-a7b635d6b2df",
   "metadata": {},
   "outputs": [
    {
     "name": "stdout",
     "output_type": "stream",
     "text": [
      "[[[10  3  7  3]\n",
      "  [ 4  6  9  6]\n",
      "  [10  9  6 10]]\n",
      "\n",
      " [[ 8  2  4  5]\n",
      "  [ 7 10  4  4]\n",
      "  [ 7  9  3  7]]]\n",
      "(2, 3, 4)\n"
     ]
    }
   ],
   "source": [
    "import numpy as np\n",
    "\n",
    "a = np.random.randint(1, 11, (2, 3, 4))\n",
    "\n",
    "print(a)\n",
    "print(a.shape)"
   ]
  },
  {
   "cell_type": "code",
   "execution_count": 7,
   "id": "e06d1891-fc32-4275-9af8-f4645cfcdbdb",
   "metadata": {},
   "outputs": [
    {
     "name": "stdout",
     "output_type": "stream",
     "text": [
      "7\n",
      "> [ 7 10  4  4]\n",
      "> [[10  4 10]\n",
      " [ 8  7  7]]\n"
     ]
    }
   ],
   "source": [
    "#Menampilkan salah satu element\n",
    "print(a[1, 2, 3])\n",
    "\n",
    "#Menampilkan salah satu row\n",
    "print(f'> {a[1, 1, :]}') \n",
    "\n",
    "#Menampilkan salah satu column\n",
    "print(f'> {a[:, :, 0]}')"
   ]
  },
  {
   "cell_type": "code",
   "execution_count": 8,
   "id": "1c8354d6-7ba1-4040-ac2a-056e9a363394",
   "metadata": {},
   "outputs": [
    {
     "name": "stdout",
     "output_type": "stream",
     "text": [
      "[[[10  3  7  3]\n",
      "  [ 4  6  9  6]\n",
      "  [10  9  6 10]]\n",
      "\n",
      " [[ 8  2  4  5]\n",
      "  [ 7 10  4  4]\n",
      "  [ 7  9  3  7]]]\n",
      "\n",
      "153\n"
     ]
    }
   ],
   "source": [
    "#Menjumlahkan semua elemen\n",
    "print(a)\n",
    "\n",
    "a = np.sum(a)\n",
    "print(f'\\n{a}')"
   ]
  },
  {
   "cell_type": "markdown",
   "id": "2a6b6dd5-2d9b-4b87-b83b-9807b3e90cfe",
   "metadata": {},
   "source": [
    "* Buatlah array dengan ukuran (2,3,4) yang berisi angka 9.\n",
    "* Lalu, ubah semua elemen pada lapisan kedua menjadi 0"
   ]
  },
  {
   "cell_type": "raw",
   "id": "9d98db42-a6cb-4396-8abe-c94e9c6f6f9e",
   "metadata": {},
   "source": [
    "Contoh Output:\n",
    "\n",
    "[[[9 9 9 9]\n",
    "  [9 9 9 9]\n",
    "  [9 9 9 9]]\n",
    "\n",
    " [[0 0 0 0]\n",
    "  [0 0 0 0]\n",
    "  [0 0 0 0]]]"
   ]
  },
  {
   "cell_type": "code",
   "execution_count": 11,
   "id": "f458c366-8005-419d-a44a-dc43925a1182",
   "metadata": {},
   "outputs": [
    {
     "name": "stdout",
     "output_type": "stream",
     "text": [
      "[[[9 9 9 9]\n",
      "  [9 9 9 9]\n",
      "  [9 9 9 9]]\n",
      "\n",
      " [[0 0 0 0]\n",
      "  [0 0 0 0]\n",
      "  [0 0 0 0]]]\n"
     ]
    }
   ],
   "source": [
    "b = np.full((2,3,4), 9)\n",
    "b[1, :, :] = 0\n",
    "\n",
    "print(b)"
   ]
  },
  {
   "cell_type": "markdown",
   "id": "0182998b-553c-47d1-aaa3-f0908d6b42a8",
   "metadata": {},
   "source": [
    "* Buatlah array 3D dengan ukuran (2, 3, 4) yang berisi angka 5\n",
    "* Ubah semua elemen pada lapisan pertama menjadi angka berurutan dari 1 sampai 12 (kiri ke kanan, atas ke bawah)"
   ]
  },
  {
   "cell_type": "raw",
   "id": "d1f6bf64-1945-42b6-8c15-38b150d49f34",
   "metadata": {},
   "source": [
    "Contoh Output: \n",
    "\n",
    "[[[ 1  2  3  4]\n",
    "  [ 5  6  7  8]\n",
    "  [ 9 10 11 12]]\n",
    "\n",
    " [[ 5  5  5  5]\n",
    "  [ 5  5  5  5]\n",
    "  [ 5  5  5  5]]]"
   ]
  },
  {
   "cell_type": "code",
   "execution_count": 14,
   "id": "a2ef18ef-5a36-472d-809c-c2ac85ece589",
   "metadata": {},
   "outputs": [
    {
     "name": "stdout",
     "output_type": "stream",
     "text": [
      "[[[ 1  2  3  4]\n",
      "  [ 5  6  7  8]\n",
      "  [ 9 10 11 12]]\n",
      "\n",
      " [[ 5  5  5  5]\n",
      "  [ 5  5  5  5]\n",
      "  [ 5  5  5  5]]]\n"
     ]
    }
   ],
   "source": [
    "c = np.full((2, 3, 4), 5)\n",
    "c[0, :, :] = np.arange(1, 13).reshape(3, 4)\n",
    "\n",
    "# np.arange = array dengan angka yang berurutan (start, stop, step kalo ada)\n",
    "# .reshape = mengubah bentuk array tanpa mengubah isinya\n",
    "\n",
    "print(c)"
   ]
  },
  {
   "cell_type": "raw",
   "id": "23915891-97d0-45ba-b61d-10d5a25f9597",
   "metadata": {},
   "source": [
    "Contoh Output:\n",
    "\n",
    "[[[1 1]\n",
    "  [1 1]\n",
    "  [1 1]\n",
    "  [1 1]]\n",
    "\n",
    " [[5 5]\n",
    "  [5 5]\n",
    "  [5 5]\n",
    "  [5 5]]\n",
    "\n",
    " [[5 5]\n",
    "  [5 5]\n",
    "  [5 5]\n",
    "  [5 5]]]"
   ]
  },
  {
   "cell_type": "code",
   "execution_count": 15,
   "id": "7501fc72-3c20-4cc4-9ece-698105378594",
   "metadata": {},
   "outputs": [
    {
     "name": "stdout",
     "output_type": "stream",
     "text": [
      "[[[1 1]\n",
      "  [1 1]\n",
      "  [1 1]\n",
      "  [1 1]]\n",
      "\n",
      " [[5 5]\n",
      "  [5 5]\n",
      "  [5 5]\n",
      "  [5 5]]\n",
      "\n",
      " [[5 5]\n",
      "  [5 5]\n",
      "  [5 5]\n",
      "  [5 5]]]\n"
     ]
    }
   ],
   "source": [
    "d = np.full((3, 4, 2), 5)\n",
    "d[0, :, :] = 1\n",
    "\n",
    "print(d)"
   ]
  },
  {
   "cell_type": "raw",
   "id": "658eeaed-155c-4cc6-9cc7-275c128175cf",
   "metadata": {},
   "source": [
    "Contoh Output:\n",
    "\n",
    "[[[7 7 7 7]\n",
    "  [7 7 7 7]\n",
    "  [7 7 7 7]\n",
    "  [7 7 7 7]\n",
    "  [7 7 7 7]]\n",
    "\n",
    " [[7 7 7 7]\n",
    "  [7 7 7 7]\n",
    "  [7 7 7 7]\n",
    "  [7 7 7 7]\n",
    "  [7 7 7 7]]\n",
    "\n",
    " [[7 7 7 7]\n",
    "  [0 0 0 0]\n",
    "  [7 7 7 7]\n",
    "  [7 7 7 7]\n",
    "  [7 7 7 7]]]"
   ]
  },
  {
   "cell_type": "code",
   "execution_count": 16,
   "id": "76679390-0f38-4b06-bc11-58acd1e5a7c8",
   "metadata": {},
   "outputs": [
    {
     "name": "stdout",
     "output_type": "stream",
     "text": [
      "[[[7 7 7 7]\n",
      "  [7 7 7 7]\n",
      "  [7 7 7 7]\n",
      "  [7 7 7 7]\n",
      "  [7 7 7 7]]\n",
      "\n",
      " [[7 7 7 7]\n",
      "  [7 7 7 7]\n",
      "  [7 7 7 7]\n",
      "  [7 7 7 7]\n",
      "  [7 7 7 7]]\n",
      "\n",
      " [[7 7 7 7]\n",
      "  [0 0 0 0]\n",
      "  [7 7 7 7]\n",
      "  [7 7 7 7]\n",
      "  [7 7 7 7]]]\n"
     ]
    }
   ],
   "source": [
    "e = np.full((3, 5, 4), 7)\n",
    "e[2, 1, :] = 0\n",
    "\n",
    "print(e)"
   ]
  },
  {
   "cell_type": "markdown",
   "id": "1bfaf14b-7081-4e88-8165-b6a58b85650b",
   "metadata": {},
   "source": [
    "* Buatlah array 3D dengan ukuran (4, 5, 6) yang berisi angka random dari 1 - 20\n",
    "* Ubah semua elemen pada lapisan ke - 3 menjadi 0, kecuali di kolom terakhir yang tetap berisi angka aslinya\n",
    "* Ubah elemen dengan nilai genap di seluruh array menjadi -1"
   ]
  },
  {
   "cell_type": "code",
   "execution_count": 20,
   "id": "2f3464d2-13c3-47b4-9260-8ac21513cfb7",
   "metadata": {},
   "outputs": [
    {
     "name": "stdout",
     "output_type": "stream",
     "text": [
      "[[[ 3 13  1 -1 -1 -1]\n",
      "  [-1 -1  9 -1 -1 -1]\n",
      "  [ 7 -1 -1  3 -1 -1]\n",
      "  [ 1  9 -1 -1 -1 -1]\n",
      "  [-1  7 17 -1  1  7]]\n",
      "\n",
      " [[-1 -1 -1  5 -1 19]\n",
      "  [-1 -1  7  7 -1  3]\n",
      "  [-1 13  3 15  7  1]\n",
      "  [-1 -1 -1 -1 15 -1]\n",
      "  [-1 -1  7  5 -1 -1]]\n",
      "\n",
      " [[ 0  0  0  0  0  7]\n",
      "  [ 0  0  0  0  0  7]\n",
      "  [ 0  0  0  0  0 13]\n",
      "  [ 0  0  0  0  0 -1]\n",
      "  [ 0  0  0  0  0  9]]\n",
      "\n",
      " [[-1 -1 -1 19 -1 17]\n",
      "  [11 -1 -1 -1 -1 13]\n",
      "  [-1 -1 -1 -1 -1  3]\n",
      "  [-1 19 -1  3 -1  1]\n",
      "  [ 5 -1 -1 -1  7 15]]]\n"
     ]
    }
   ],
   "source": [
    "x = np.random.randint(1, 21, (4,5,6))\n",
    "\n",
    "#Ubah nilai genap menjadi -1\n",
    "x[x % 2 == 0] = -1\n",
    "\n",
    "#Ubah lapisan ke-3 menjadi 0, kec kolom terakhir\n",
    "x[2, :, 0:-1] = 0\n",
    "\n",
    "print(x)"
   ]
  },
  {
   "cell_type": "code",
   "execution_count": 25,
   "id": "9d471001-ba01-44f8-9855-5a056e886467",
   "metadata": {},
   "outputs": [
    {
     "name": "stdout",
     "output_type": "stream",
     "text": [
      "[[[1. 2. 3. 4.]\n",
      "  [0. 0. 0. 0.]\n",
      "  [0. 0. 0. 0.]\n",
      "  [0. 0. 0. 0.]]\n",
      "\n",
      " [[0. 0. 0. 0.]\n",
      "  [0. 0. 0. 0.]\n",
      "  [0. 0. 0. 0.]\n",
      "  [0. 0. 0. 0.]]]\n"
     ]
    }
   ],
   "source": [
    "y = np.zeros((2, 4, 4))\n",
    "y[0, 0, :] = np.arange(1,5).reshape(1, 4)\n",
    "\n",
    "print(y)"
   ]
  },
  {
   "cell_type": "code",
   "execution_count": null,
   "id": "11a2242c-8f0d-43fb-aca9-7c3561f4c02a",
   "metadata": {},
   "outputs": [],
   "source": []
  }
 ],
 "metadata": {
  "kernelspec": {
   "display_name": "Python 3 (ipykernel)",
   "language": "python",
   "name": "python3"
  },
  "language_info": {
   "codemirror_mode": {
    "name": "ipython",
    "version": 3
   },
   "file_extension": ".py",
   "mimetype": "text/x-python",
   "name": "python",
   "nbconvert_exporter": "python",
   "pygments_lexer": "ipython3",
   "version": "3.11.9"
  }
 },
 "nbformat": 4,
 "nbformat_minor": 5
}
