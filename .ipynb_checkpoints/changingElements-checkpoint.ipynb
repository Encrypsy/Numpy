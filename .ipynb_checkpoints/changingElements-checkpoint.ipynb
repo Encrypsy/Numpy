{
 "cells": [
  {
   "cell_type": "markdown",
   "id": "888dce9c-160b-47fb-a395-d363d3013049",
   "metadata": {},
   "source": [
    "# Numpy - O1\n",
    "by. Malya Maritza"
   ]
  },
  {
   "cell_type": "markdown",
   "id": "800d0540-3e34-4ccf-a2e2-b8dcda922b42",
   "metadata": {},
   "source": [
    "oke sebelumnya udah tau lah ya basic basic dari Array yang dijalan memakai numpy. \n",
    "Sekarang pembelajarannya lebih ke gimana cara kita bisa memanipulasi/mengubah salah satu elemen di dalam array"
   ]
  },
  {
   "cell_type": "markdown",
   "id": "4dc9dc91-0f71-480e-8b70-312255b23410",
   "metadata": {},
   "source": [
    "## Changing elements in Array"
   ]
  },
  {
   "cell_type": "code",
   "execution_count": 25,
   "id": "200cb135-12e2-468a-b8cb-79b16ea9f6f6",
   "metadata": {},
   "outputs": [],
   "source": [
    "import numpy as num\n",
    "\n",
    "# (2,3,4)\n",
    "a = num.array([\n",
    "    [[1, 2, 3, 4], [5, 6, 7, 8], [9, 10, 11, 12]],\n",
    "    [[13, 14, 15, 16], [17, 18, 19, 20], [21, 22, 23, 24]]\n",
    "])\n",
    "\n",
    "# (2, 2)\n",
    "b = num.array([\n",
    "    [0, 0],\n",
    "    [0, 0]\n",
    "])"
   ]
  },
  {
   "cell_type": "markdown",
   "id": "6cc0e5f6-db5d-439d-8460-948a446db45d",
   "metadata": {},
   "source": [
    "* Cara **MEMUNCULKAN** nilai dari salah satu elemen\n",
    "  "
   ]
  },
  {
   "cell_type": "code",
   "execution_count": 24,
   "id": "56850796-38fa-4ff4-8b5b-1258f92d44ca",
   "metadata": {},
   "outputs": [
    {
     "name": "stdout",
     "output_type": "stream",
     "text": [
      "4\n",
      "0\n"
     ]
    }
   ],
   "source": [
    "# [row, column] -> 2D\n",
    "# [row, sub-row, isi] -> 3D\n",
    "\n",
    "print(a[0, 0, -1]) #Output: 4\n",
    "print(b[1,1]) #Output: 0"
   ]
  },
  {
   "cell_type": "markdown",
   "id": "dd0172a7-4542-4fc6-9d19-93b9f1eae908",
   "metadata": {},
   "source": [
    "apa yang dimaksud dari -1?\n",
    "maksudnya tuh nomor 1 dari belakang, berarti kalo -3 nomor 3 dari belakang"
   ]
  },
  {
   "cell_type": "markdown",
   "id": "48f8b335-e245-4b69-9896-0ef938e05301",
   "metadata": {},
   "source": [
    "* Cara **MENGGANTI** salah satu elemen di dalam array"
   ]
  },
  {
   "cell_type": "code",
   "execution_count": 17,
   "id": "629635fc-feae-4982-a068-a67b3960acbf",
   "metadata": {},
   "outputs": [
    {
     "name": "stdout",
     "output_type": "stream",
     "text": [
      "[[0 0]\n",
      " [0 0]]\n"
     ]
    }
   ],
   "source": [
    "print (b)"
   ]
  },
  {
   "cell_type": "code",
   "execution_count": 22,
   "id": "cf46a3d0-fa5c-4634-8ce7-20b6e8907810",
   "metadata": {},
   "outputs": [
    {
     "name": "stdout",
     "output_type": "stream",
     "text": [
      "[[1 2]\n",
      " [3 4]]\n"
     ]
    }
   ],
   "source": [
    "b[0, 0] = 1\n",
    "b[0, 1] = 2\n",
    "b[1, 0] = 3\n",
    "b[1, 1] = 4\n",
    "\n",
    "print(b)"
   ]
  },
  {
   "cell_type": "markdown",
   "id": "a8c779ae-261f-4608-8c06-ac5d9000c949",
   "metadata": {},
   "source": [
    "* Cara **MENAMPILKAN** per row atau baris"
   ]
  },
  {
   "cell_type": "code",
   "execution_count": 10,
   "id": "a8215b1c-b04a-4c71-a97d-a8c2c8d49163",
   "metadata": {},
   "outputs": [
    {
     "name": "stdout",
     "output_type": "stream",
     "text": [
      "[[[1 2 3 4]\n",
      "  [8 7 6 5]]\n",
      "\n",
      " [[2 3 4 5]\n",
      "  [5 6 7 8]]\n",
      "\n",
      " [[3 4 5 6]\n",
      "  [9 7 5 3]]]\n"
     ]
    }
   ],
   "source": [
    "import numpy as np\n",
    "\n",
    "# (3, 2, 4)\n",
    "a = np.array([\n",
    "    [[1, 2, 3, 4], [8, 7, 6, 5]],\n",
    "    [[2, 3, 4, 5], [5, 6, 7, 8]],\n",
    "    [[3, 4, 5, 6], [9, 7, 5, 3]]\n",
    "])\n",
    "\n",
    "print(a)"
   ]
  },
  {
   "cell_type": "code",
   "execution_count": 14,
   "id": "109c9d6b-ff67-4af0-8558-d2f995622922",
   "metadata": {},
   "outputs": [
    {
     "name": "stdout",
     "output_type": "stream",
     "text": [
      "[2 3 4 5]\n"
     ]
    }
   ],
   "source": [
    "print (a[1, 0, :])"
   ]
  },
  {
   "cell_type": "code",
   "execution_count": 16,
   "id": "bb698b9c-739f-4aed-9e0b-749f66b966cf",
   "metadata": {},
   "outputs": [
    {
     "name": "stdout",
     "output_type": "stream",
     "text": [
      "[1 2 3 4]\n"
     ]
    }
   ],
   "source": [
    "print(a[0, 0, :])"
   ]
  },
  {
   "cell_type": "code",
   "execution_count": 17,
   "id": "125ea59a-f795-450a-8bc7-483ba57e9a0a",
   "metadata": {},
   "outputs": [
    {
     "name": "stdout",
     "output_type": "stream",
     "text": [
      "[9 7 5 3]\n"
     ]
    }
   ],
   "source": [
    "print(a[2, 1, :])"
   ]
  },
  {
   "cell_type": "code",
   "execution_count": 18,
   "id": "7e8f7307-f993-4cd1-88ca-b047b7336cd6",
   "metadata": {},
   "outputs": [
    {
     "name": "stdout",
     "output_type": "stream",
     "text": [
      "[[1 2 3 4]\n",
      " [8 7 6 5]]\n"
     ]
    }
   ],
   "source": [
    "print(a[0, :, :])"
   ]
  },
  {
   "cell_type": "code",
   "execution_count": 19,
   "id": "18b2c7d4-8a1b-46f7-85d6-689a66b852b5",
   "metadata": {},
   "outputs": [
    {
     "name": "stdout",
     "output_type": "stream",
     "text": [
      "9\n"
     ]
    }
   ],
   "source": [
    "print(a[2, 1, 0])"
   ]
  },
  {
   "cell_type": "markdown",
   "id": "b96b74bb-ae57-4a45-bb58-01fa4fbb7eda",
   "metadata": {},
   "source": [
    "**KESIMPULAN**\n",
    "\n",
    ". titik dua (:) dipake kalo mau meng outputkan semuanya\n",
    "\n",
    ". Kalo ngitung selalu dari selalu 0"
   ]
  },
  {
   "cell_type": "markdown",
   "id": "1e9cbb5a-c996-4a21-ac7a-f201a900017a",
   "metadata": {},
   "source": [
    "* Cara **MENGGANTI NILAI** per row atau baris"
   ]
  },
  {
   "cell_type": "code",
   "execution_count": 20,
   "id": "fa7196e0-20a4-49a6-84f7-a9f55c069bc2",
   "metadata": {},
   "outputs": [
    {
     "name": "stdout",
     "output_type": "stream",
     "text": [
      "[[[1 2 3 4]\n",
      "  [8 7 6 5]]\n",
      "\n",
      " [[2 3 4 5]\n",
      "  [5 6 7 8]]\n",
      "\n",
      " [[3 4 5 6]\n",
      "  [9 7 5 3]]]\n"
     ]
    }
   ],
   "source": [
    "print (a)"
   ]
  },
  {
   "cell_type": "code",
   "execution_count": 41,
   "id": "662a2004-83a9-4639-ac43-c52bd24a1eff",
   "metadata": {},
   "outputs": [
    {
     "name": "stdout",
     "output_type": "stream",
     "text": [
      "[[1 1 1 1]\n",
      " [8 1 6 5]]\n"
     ]
    }
   ],
   "source": [
    "a[0, 0, :] = 1\n",
    "print(a[0, :, :])"
   ]
  },
  {
   "cell_type": "code",
   "execution_count": 39,
   "id": "b9b07d4c-0974-427e-b4f5-8aa2872f999b",
   "metadata": {},
   "outputs": [
    {
     "name": "stdout",
     "output_type": "stream",
     "text": [
      "[[3 1 5 6]\n",
      " [1 1 1 1]]\n"
     ]
    }
   ],
   "source": [
    "a[2, 1, :] = 1\n",
    "print(a[2, :, :])"
   ]
  },
  {
   "cell_type": "code",
   "execution_count": 24,
   "id": "42f37bd6-6e92-4f84-ab95-4a68b7354ef1",
   "metadata": {},
   "outputs": [
    {
     "name": "stdout",
     "output_type": "stream",
     "text": [
      "[[[0 0 0 0]\n",
      "  [8 7 6 5]]\n",
      "\n",
      " [[2 3 4 5]\n",
      "  [5 6 7 8]]\n",
      "\n",
      " [[3 4 5 6]\n",
      "  [0 0 0 0]]]\n"
     ]
    }
   ],
   "source": [
    "print(a)"
   ]
  },
  {
   "cell_type": "code",
   "execution_count": 30,
   "id": "b0094641-b737-47f7-9d1c-70a023ad5002",
   "metadata": {},
   "outputs": [
    {
     "name": "stdout",
     "output_type": "stream",
     "text": [
      "[3 4]\n"
     ]
    }
   ],
   "source": [
    "print(a[1, 0, 1:3])"
   ]
  },
  {
   "cell_type": "markdown",
   "id": "a162c449-a569-4198-a8a1-20a12ec6a7b7",
   "metadata": {},
   "source": [
    "**KESIMPULAN KODE DIATAS**\n",
    "\n",
    ". 1:3 yang berarti (start:end) yang dimana end itu tidak diambil\n",
    "\n",
    "[2 3 4 5]\n",
    "\n",
    " 0 1 2 3\n",
    "\n",
    " 3 berada di indeks 1 dan 4 berada di indeks 2, karena setelahnya indeks 3 (tidak diambil) maka cara penulisannya [1:3]"
   ]
  },
  {
   "cell_type": "code",
   "execution_count": 31,
   "id": "0a60332b-d1db-4a2f-a6e3-1d1f3535e58a",
   "metadata": {},
   "outputs": [
    {
     "name": "stdout",
     "output_type": "stream",
     "text": [
      "[[[0 0 0 0]\n",
      "  [8 7 6 5]]\n",
      "\n",
      " [[2 3 4 5]\n",
      "  [5 6 7 8]]\n",
      "\n",
      " [[3 4 5 6]\n",
      "  [0 0 0 0]]]\n"
     ]
    }
   ],
   "source": [
    "print(a)"
   ]
  },
  {
   "cell_type": "code",
   "execution_count": 33,
   "id": "952234f3-831f-4b01-a009-31bf643c1c57",
   "metadata": {},
   "outputs": [
    {
     "name": "stdout",
     "output_type": "stream",
     "text": [
      "[5 6 7]\n"
     ]
    }
   ],
   "source": [
    "print(a[1, 1, 0:-1])"
   ]
  },
  {
   "cell_type": "markdown",
   "id": "fe21932b-4dca-40ca-a529-98cc2568b27d",
   "metadata": {},
   "source": [
    "-1 nomor 1 dari terakhir, \n",
    "-2 nomor 2 dari terakhir"
   ]
  },
  {
   "cell_type": "code",
   "execution_count": 43,
   "id": "8690fef6-f0f4-4738-bc5c-c1bb8354eb7b",
   "metadata": {},
   "outputs": [
    {
     "name": "stdout",
     "output_type": "stream",
     "text": [
      "[[[1 1 1 1]\n",
      "  [8 1 1 5]]\n",
      "\n",
      " [[2 1 1 5]\n",
      "  [5 1 1 8]]\n",
      "\n",
      " [[3 1 1 6]\n",
      "  [1 1 1 1]]]\n"
     ]
    }
   ],
   "source": [
    "a[:, :, 1] = 1\n",
    "a[:, :, 2] = 1\n",
    "print(a)"
   ]
  },
  {
   "cell_type": "code",
   "execution_count": null,
   "id": "613d00e2-b001-4616-a676-5d9122405a96",
   "metadata": {},
   "outputs": [],
   "source": []
  }
 ],
 "metadata": {
  "kernelspec": {
   "display_name": "Python 3 (ipykernel)",
   "language": "python",
   "name": "python3"
  },
  "language_info": {
   "codemirror_mode": {
    "name": "ipython",
    "version": 3
   },
   "file_extension": ".py",
   "mimetype": "text/x-python",
   "name": "python",
   "nbconvert_exporter": "python",
   "pygments_lexer": "ipython3",
   "version": "3.11.9"
  }
 },
 "nbformat": 4,
 "nbformat_minor": 5
}
