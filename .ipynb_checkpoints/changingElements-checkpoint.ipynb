{
 "cells": [
  {
   "cell_type": "markdown",
   "id": "888dce9c-160b-47fb-a395-d363d3013049",
   "metadata": {},
   "source": [
    "# Numpy - O1\n",
    "by. Malya Maritza"
   ]
  },
  {
   "cell_type": "markdown",
   "id": "800d0540-3e34-4ccf-a2e2-b8dcda922b42",
   "metadata": {},
   "source": [
    "oke sebelumnya udah tau lah ya basic basic dari Array yang dijalan memakai numpy. \n",
    "Sekarang pembelajarannya lebih ke gimana cara kita bisa memanipulasi/mengubah salah satu elemen di dalam array"
   ]
  },
  {
   "cell_type": "markdown",
   "id": "4dc9dc91-0f71-480e-8b70-312255b23410",
   "metadata": {},
   "source": [
    "## Changing elements in Array"
   ]
  },
  {
   "cell_type": "code",
   "execution_count": 15,
   "id": "200cb135-12e2-468a-b8cb-79b16ea9f6f6",
   "metadata": {},
   "outputs": [
    {
     "name": "stdout",
     "output_type": "stream",
     "text": [
      "(2, 3, 4)\n",
      "(2, 2)\n"
     ]
    }
   ],
   "source": [
    "import numpy as eek\n",
    "\n",
    "# (2,3,4)\n",
    "a = eek.array([\n",
    "    [[1, 2, 3, 4], [5, 6, 7, 8], [9, 10, 11, 12]],\n",
    "    [[13, 14, 15, 16], [17, 18, 19, 20], [21, 22, 23, 24]]\n",
    "])\n",
    "\n",
    "# (2, 2)\n",
    "b = eek.array([\n",
    "    [0, 0],\n",
    "    [0, 0]\n",
    "])\n",
    "\n",
    "print(a.shape) #Output: (2, 3, 4)\n",
    "print(b.shape) #Output: (2, 2)"
   ]
  },
  {
   "cell_type": "markdown",
   "id": "6cc0e5f6-db5d-439d-8460-948a446db45d",
   "metadata": {},
   "source": [
    "* Cara **MEMUNCULKAN** nilai dari salah satu elemen\n",
    "  "
   ]
  },
  {
   "cell_type": "code",
   "execution_count": 12,
   "id": "56850796-38fa-4ff4-8b5b-1258f92d44ca",
   "metadata": {},
   "outputs": [
    {
     "name": "stdout",
     "output_type": "stream",
     "text": [
      "4\n"
     ]
    }
   ],
   "source": [
    "# [row, column] -> 2D\n",
    "# [row, sub-row, isi] -> 3D\n",
    "\n",
    "print(a[0, 0, -1]) #Output: 4"
   ]
  },
  {
   "cell_type": "markdown",
   "id": "dd0172a7-4542-4fc6-9d19-93b9f1eae908",
   "metadata": {},
   "source": [
    "apa yang dimaksud dari -1?\n",
    "maksudnya tuh nomor 1 dari belakang, berarti kalo -3 nomor 3 dari belakang"
   ]
  },
  {
   "cell_type": "markdown",
   "id": "48f8b335-e245-4b69-9896-0ef938e05301",
   "metadata": {},
   "source": [
    "* Cara **MENGGANTI** salah satu elemen di dalam array"
   ]
  },
  {
   "cell_type": "code",
   "execution_count": 17,
   "id": "629635fc-feae-4982-a068-a67b3960acbf",
   "metadata": {},
   "outputs": [
    {
     "name": "stdout",
     "output_type": "stream",
     "text": [
      "[[0 0]\n",
      " [0 0]]\n"
     ]
    }
   ],
   "source": [
    "print (b)"
   ]
  },
  {
   "cell_type": "code",
   "execution_count": 18,
   "id": "cf46a3d0-fa5c-4634-8ce7-20b6e8907810",
   "metadata": {},
   "outputs": [
    {
     "name": "stdout",
     "output_type": "stream",
     "text": [
      "[[1 2]\n",
      " [3 4]]\n"
     ]
    }
   ],
   "source": [
    "b[0, 0] = 1\n",
    "b[0, 1] = 2\n",
    "b[1, 0] = 3\n",
    "b[1, 1] = 4\n",
    "\n",
    "print(b)"
   ]
  },
  {
   "cell_type": "code",
   "execution_count": null,
   "id": "b9db2cbd-f6e0-475f-97a4-a6d66456212e",
   "metadata": {},
   "outputs": [],
   "source": []
  }
 ],
 "metadata": {
  "kernelspec": {
   "display_name": "Python 3 (ipykernel)",
   "language": "python",
   "name": "python3"
  },
  "language_info": {
   "codemirror_mode": {
    "name": "ipython",
    "version": 3
   },
   "file_extension": ".py",
   "mimetype": "text/x-python",
   "name": "python",
   "nbconvert_exporter": "python",
   "pygments_lexer": "ipython3",
   "version": "3.11.9"
  }
 },
 "nbformat": 4,
 "nbformat_minor": 5
}
