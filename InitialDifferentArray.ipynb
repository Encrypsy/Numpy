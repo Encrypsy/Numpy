{
 "cells": [
  {
   "cell_type": "markdown",
   "id": "80ae6f77-1713-41c0-8234-4a74709595a1",
   "metadata": {},
   "source": [
    "# Numpy - O2\n",
    "By. Malya Maritza"
   ]
  },
  {
   "cell_type": "markdown",
   "id": "2771d53f-222c-4c5e-bf97-1c2929e7dbbd",
   "metadata": {},
   "source": [
    "sekarang lebih ke cara bikin array/matriks secara simpel"
   ]
  },
  {
   "cell_type": "markdown",
   "id": "f0e2dae2-f132-4af2-9ddd-6fbc66252d55",
   "metadata": {},
   "source": [
    "## Initializing Different types of Array"
   ]
  },
  {
   "cell_type": "markdown",
   "id": "4f977612-82ae-41bc-8c25-e7987a052956",
   "metadata": {},
   "source": [
    "* mengubah semuanya menjadi 0 dengan ukuran yang kita mau"
   ]
  },
  {
   "cell_type": "code",
   "execution_count": 13,
   "id": "9657be31-f075-41fc-b27d-58deda6c5878",
   "metadata": {},
   "outputs": [
    {
     "name": "stdout",
     "output_type": "stream",
     "text": [
      "3 Dimensi\n",
      "[[[0. 0. 0.]\n",
      "  [0. 0. 0.]]\n",
      "\n",
      " [[0. 0. 0.]\n",
      "  [0. 0. 0.]]]\n",
      "\n",
      "2 Dimensi\n",
      "[[0. 0. 0. 0.]\n",
      " [0. 0. 0. 0.]\n",
      " [0. 0. 0. 0.]]\n"
     ]
    }
   ],
   "source": [
    "import numpy as num\n",
    "\n",
    "a = num.zeros((2, 2, 3)) # (2, 2, 3) adalah size array yang kita mau\n",
    "print(f'3 Dimensi\\n{a}')\n",
    "\n",
    "print()\n",
    "\n",
    "b = num.zeros((3, 4))\n",
    "print(f'2 Dimensi\\n{b}')"
   ]
  },
  {
   "cell_type": "markdown",
   "id": "2461a833-0f3f-4bfb-b3f6-dfea3d0a329c",
   "metadata": {},
   "source": [
    "* mengubah semuanya menjadi 1 dengan ukuran yang kita mau"
   ]
  },
  {
   "cell_type": "code",
   "execution_count": 8,
   "id": "24814971-29d9-40ee-8221-93b35f0db8c4",
   "metadata": {},
   "outputs": [
    {
     "name": "stdout",
     "output_type": "stream",
     "text": [
      "[[1. 1.]\n",
      " [1. 1.]\n",
      " [1. 1.]\n",
      " [1. 1.]]\n"
     ]
    }
   ],
   "source": [
    "c = num.ones((4, 2))\n",
    "print(c)"
   ]
  },
  {
   "cell_type": "markdown",
   "id": "b3194c64-16d2-4de2-a763-a41a3021fa64",
   "metadata": {},
   "source": [
    "* mengubah semuanya menjadi **angka apapun** dengan ukuran yang kita mau"
   ]
  },
  {
   "cell_type": "code",
   "execution_count": 48,
   "id": "05d2dece-b83e-4e6a-9aca-e5be56e3f3d1",
   "metadata": {},
   "outputs": [
    {
     "name": "stdout",
     "output_type": "stream",
     "text": [
      "[[[11 11 11 11]\n",
      "  [11 11 11 11]\n",
      "  [11 11 11 11]]\n",
      "\n",
      " [[11 11 11 11]\n",
      "  [11 11 11 11]\n",
      "  [11 11 11 11]]]\n"
     ]
    }
   ],
   "source": [
    "d = num.full((2, 3, 4), 11) #num.full((shape), angka yang kita mau)\n",
    "print(d)"
   ]
  },
  {
   "cell_type": "markdown",
   "id": "dbcc15d6-38c8-4fd3-a600-3aac1f285823",
   "metadata": {},
   "source": [
    "* memanipulasi array yang sudah kita bikin dengan shape dan angka yang baru\n",
    "\n",
    "    dengan memakai full_like"
   ]
  },
  {
   "cell_type": "code",
   "execution_count": 26,
   "id": "ea4fd95e-002e-44a3-afe9-32ec8d928dfe",
   "metadata": {},
   "outputs": [
    {
     "name": "stdout",
     "output_type": "stream",
     "text": [
      "[[1. 1.]\n",
      " [1. 1.]\n",
      " [1. 1.]\n",
      " [1. 1.]]\n"
     ]
    }
   ],
   "source": [
    "print(c)"
   ]
  },
  {
   "cell_type": "code",
   "execution_count": 27,
   "id": "92e69f04-0cdf-437e-a61b-c4f2049b98da",
   "metadata": {},
   "outputs": [
    {
     "name": "stdout",
     "output_type": "stream",
     "text": [
      "[[2. 2.]\n",
      " [2. 2.]\n",
      " [2. 2.]\n",
      " [2. 2.]]\n"
     ]
    }
   ],
   "source": [
    "print(num.full_like(c, 2))"
   ]
  },
  {
   "cell_type": "markdown",
   "id": "1e144d42-2128-4777-85e5-9b234eef8933",
   "metadata": {},
   "source": [
    "* Bikin aray dengan **angka yang random** atau acak"
   ]
  },
  {
   "cell_type": "markdown",
   "id": "07b8e621-264b-4f7b-b8e2-1b6dd88ddac6",
   "metadata": {},
   "source": [
    "random decimal yang dimulai dari 0 - 1"
   ]
  },
  {
   "cell_type": "code",
   "execution_count": 29,
   "id": "d0e81066-2271-437d-87c6-e735fa946f79",
   "metadata": {},
   "outputs": [
    {
     "name": "stdout",
     "output_type": "stream",
     "text": [
      "[[0.24022407 0.76337392 0.57708575 0.6845168  0.90537147]\n",
      " [0.42981704 0.99244891 0.04680318 0.7592272  0.66939141]\n",
      " [0.94074263 0.08807973 0.37554477 0.16481922 0.87927909]\n",
      " [0.37759857 0.02182128 0.65147491 0.7844419  0.25901387]]\n"
     ]
    }
   ],
   "source": [
    "x = num.random.rand(4, 5)\n",
    "print(x)"
   ]
  },
  {
   "cell_type": "markdown",
   "id": "67e68cae-01d5-40e8-a9e9-823a3ff274d4",
   "metadata": {},
   "source": [
    "random integer (start - end nya bisa di customize)"
   ]
  },
  {
   "cell_type": "code",
   "execution_count": 33,
   "id": "c7ad5e93-4cd5-400a-aa94-f1cb4fec23d6",
   "metadata": {},
   "outputs": [
    {
     "name": "stdout",
     "output_type": "stream",
     "text": [
      "[[ 1  2  3  8  8]\n",
      " [ 9  2  7  5 10]\n",
      " [ 4  4  2  6  7]\n",
      " [ 6  4  6  9  4]]\n"
     ]
    }
   ],
   "source": [
    "y = num.random.randint(1, 11, size=(x.shape)) # Start, End (tidak dimasukkan)\n",
    "print(y)"
   ]
  },
  {
   "cell_type": "markdown",
   "id": "d9043628-db12-469e-95d7-5a75149bc718",
   "metadata": {},
   "source": [
    "* Bikin matriks/array dengan bentuk yang sama (Persegi)\n",
    "\n",
    "  memakai identity"
   ]
  },
  {
   "cell_type": "code",
   "execution_count": 46,
   "id": "96c6e406-64ab-4c78-9651-543ce4465984",
   "metadata": {},
   "outputs": [
    {
     "name": "stdout",
     "output_type": "stream",
     "text": [
      "[[6 6 6 6]\n",
      " [6 6 6 6]\n",
      " [6 6 6 6]\n",
      " [6 6 6 6]]\n"
     ]
    }
   ],
   "source": [
    "m = num.identity(4) #Shape (4,4)\n",
    "m = num.zeros((m.shape))\n",
    "m = num.full((m.shape), 6)\n",
    "print(m)"
   ]
  },
  {
   "cell_type": "markdown",
   "id": "3c26a69c-7419-4e3a-8c58-f490187ad90f",
   "metadata": {},
   "source": [
    "* **Mengulang** Array menggunakan np.repeat"
   ]
  },
  {
   "cell_type": "code",
   "execution_count": 54,
   "id": "dfc68069-89e3-4dd0-8d2e-16810648dd6f",
   "metadata": {},
   "outputs": [
    {
     "name": "stdout",
     "output_type": "stream",
     "text": [
      "[[2 3 1]\n",
      " [2 3 1]\n",
      " [2 3 1]]\n",
      "(3, 3)\n"
     ]
    }
   ],
   "source": [
    "a = num.array([[2, 3, 1]])\n",
    "a = num.repeat(a, 3, axis=0) #num.repeat(nama array, diulang berapa kali, secara horizontal/vertikal)\n",
    "\n",
    "print(f'{a}\\n{a.shape}')"
   ]
  },
  {
   "cell_type": "markdown",
   "id": "df575d6f-1cb3-455c-91d7-6b9a61cb66ce",
   "metadata": {},
   "source": [
    "mengulang array dengan 2 dimensi.\n",
    "\n",
    "axis=0 (vertikal/atas bawah)\n",
    "axis=1 (horizontal/kanan kiri)"
   ]
  }
 ],
 "metadata": {
  "kernelspec": {
   "display_name": "Python 3 (ipykernel)",
   "language": "python",
   "name": "python3"
  },
  "language_info": {
   "codemirror_mode": {
    "name": "ipython",
    "version": 3
   },
   "file_extension": ".py",
   "mimetype": "text/x-python",
   "name": "python",
   "nbconvert_exporter": "python",
   "pygments_lexer": "ipython3",
   "version": "3.11.9"
  }
 },
 "nbformat": 4,
 "nbformat_minor": 5
}
